{
  "nbformat": 4,
  "nbformat_minor": 0,
  "metadata": {
    "kernelspec": {
      "display_name": "Python 3",
      "language": "python",
      "name": "python3"
    },
    "language_info": {
      "codemirror_mode": {
        "name": "ipython",
        "version": 3
      },
      "file_extension": ".py",
      "mimetype": "text/x-python",
      "name": "python",
      "nbconvert_exporter": "python",
      "pygments_lexer": "ipython3",
      "version": "3.7.6"
    },
    "toc": {
      "base_numbering": 1,
      "nav_menu": {},
      "number_sections": true,
      "sideBar": true,
      "skip_h1_title": false,
      "title_cell": "Table of Contents",
      "title_sidebar": "Contents",
      "toc_cell": false,
      "toc_position": {},
      "toc_section_display": true,
      "toc_window_display": false
    },
    "colab": {
      "name": "helmholtz.py.ipynb",
      "provenance": [],
      "toc_visible": true
    }
  },
  "cells": [
    {
      "cell_type": "markdown",
      "metadata": {
        "id": "_jkmryFDscur"
      },
      "source": [
        "# Recreating Helmholtz"
      ]
    },
    {
      "cell_type": "code",
      "metadata": {
        "colab": {
          "base_uri": "https://localhost:8080/"
        },
        "id": "dUomSPYFscur",
        "outputId": "fdec2ad3-624d-44d3-afd3-c2b6552798d1"
      },
      "source": [
        "import numpy as np\n",
        "import matplotlib.pyplot as plt\n",
        "import matplotlib.gridspec as gridspec\n",
        "import os\n",
        "import tensorflow_datasets as tfds\n",
        "from tqdm import trange\n",
        "\n",
        "\n",
        "if not os.path.exists('out/'):\n",
        "    os.makedirs('out/')\n",
        "\n",
        "mnist = tfds.load('mnist', split='train')\n",
        "mnist = tfds.as_numpy(mnist)\n",
        "images = []\n",
        "label = []\n",
        "for ex in mnist:\n",
        "  images.append(ex['image'].reshape(784))\n",
        "  label.append(ex['label'])\n",
        "\n",
        "images = np.array(images)\n",
        "label = np.array(label)\n",
        "\n",
        "mnist = tfds.load('mnist', split='test')\n",
        "mnist = tfds.as_numpy(mnist)\n",
        "test_images = []\n",
        "test_label = []\n",
        "for ex in mnist:\n",
        "  test_images.append(ex['image'].reshape(784))\n",
        "  test_label.append(ex['label'])\n",
        "\n",
        "test_images = np.array(test_images)\n",
        "test_label = np.array(test_label)\n",
        "\n",
        "\n",
        "\n",
        "\n",
        "X_dim = images[0].shape[0]\n",
        "\n",
        "mb_size = 16\n",
        "h_dim = 36\n",
        "\n",
        "# Recognition/inference weight\n",
        "R = np.random.randn(X_dim, h_dim) * 0.001\n",
        "# Generative weight\n",
        "W = np.random.randn(h_dim, X_dim) * 0.001\n",
        "# Generative bias of hidden variables\n",
        "B = np.random.randn(h_dim) * 0.001\n",
        "\n",
        "\n",
        "def sigm(x):\n",
        "    return 1/(1 + np.exp(-x))\n",
        "\n",
        "\n",
        "def infer(X):\n",
        "    # mb_size x x_dim -> mb_size x h_dim\n",
        "    return sigm(X @ R)\n",
        "\n",
        "\n",
        "def generate(H):\n",
        "    # mb_size x h_dim -> mb_size x x_dim\n",
        "    return sigm(H @ W)\n",
        "\n",
        "\n",
        "# Wake-Sleep Algorithm\n",
        "# --------------------\n",
        "alpha = 0.1\n",
        "\n",
        "for t in trange(1, 1001):\n",
        "    # ----------\n",
        "    # Wake phase\n",
        "    # ----------\n",
        "\n",
        "    # Upward pass\n",
        "    X_mb = (images[(t-1)*mb_size:(t-1)*mb_size+mb_size]).reshape(mb_size, 784) > .5\n",
        "    H = np.random.binomial(n=1, p=infer(X_mb))\n",
        "\n",
        "    # Downward pass\n",
        "    H_prime = sigm(B)\n",
        "    V = generate(H)\n",
        "\n",
        "    # Compute gradient\n",
        "    dB = H - H_prime\n",
        "    dW = np.array([np.outer(H[i], X_mb[i] - V[i]) for i in range(mb_size)])\n",
        "\n",
        "    # Update generative weight\n",
        "    B += (alpha/t) * np.mean(dB, axis=0)\n",
        "    W += (alpha/t) * np.mean(dW, axis=0)\n",
        "\n",
        "    # -----------\n",
        "    # Sleep phase\n",
        "    # -----------\n",
        "\n",
        "    # Downward pass\n",
        "    H_mb = np.random.binomial(n=1, p=sigm(B))\n",
        "    V = np.random.binomial(n=1, p=generate(H_mb))\n",
        "\n",
        "    # Upward pass\n",
        "    H = infer(V)\n",
        "\n",
        "    # Compute gradient\n",
        "    dR = np.array([np.outer(V, H_mb[i] - H[i]) for i in range(mb_size)])\n",
        "\n",
        "    # Update recognition weight\n",
        "    R += (alpha/t) * np.mean(dR, axis=0)\n",
        "\n",
        "\n",
        "# Visualization\n",
        "# -------------\n",
        "\n",
        "def plot(samples, size, name):\n",
        "    size = int(size)\n",
        "    fig = plt.figure(figsize=(4, 4))\n",
        "    gs = gridspec.GridSpec(4, 4)\n",
        "    gs.update(wspace=0.05, hspace=0.05)\n",
        "\n",
        "    for i, sample in enumerate(samples):\n",
        "        ax = plt.subplot(gs[i])\n",
        "        plt.axis('off')\n",
        "        ax.set_xticklabels([])\n",
        "        ax.set_yticklabels([])\n",
        "        ax.set_aspect('equal')\n",
        "        plt.imshow(sample.reshape(size, size), cmap='Greys_r')\n",
        "    plt.show()\n",
        "    plt.savefig('out/{}.png'.format(name), bbox_inches='tight')\n",
        "    plt.close(fig)\n",
        "\n",
        "\n",
        "X = (test_images[:mb_size] > 0.5).astype(np.float)\n",
        "\n",
        "H = np.random.binomial(n=1, p=infer(X))\n",
        "plot(H, np.sqrt(h_dim), 'H')\n",
        "\n",
        "X_recon = np.random.binomial(n=1, p=generate(H))\n",
        "plot(X_recon, np.sqrt(X_dim), 'V')"
      ],
      "execution_count": 53,
      "outputs": [
        {
          "output_type": "stream",
          "text": [
            "100%|██████████| 1000/1000 [00:05<00:00, 172.24it/s]\n"
          ],
          "name": "stderr"
        }
      ]
    },
    {
      "cell_type": "code",
      "metadata": {
        "id": "luZ5xTT5zyyE",
        "outputId": "290debb3-64b5-4840-f3b5-ac75a8d68341",
        "colab": {
          "base_uri": "https://localhost:8080/",
          "height": 282
        }
      },
      "source": [
        "plt.imshow(images[0].reshape(28,28))"
      ],
      "execution_count": 57,
      "outputs": [
        {
          "output_type": "execute_result",
          "data": {
            "text/plain": [
              "<matplotlib.image.AxesImage at 0x7fe7e41866a0>"
            ]
          },
          "metadata": {
            "tags": []
          },
          "execution_count": 57
        },
        {
          "output_type": "display_data",
          "data": {
            "image/png": "[encoded data removed]",
            "text/plain": [
              "<Figure size 432x288 with 1 Axes>"
            ]
          },
          "metadata": {
            "tags": [],
            "needs_background": "light"
          }
        }
      ]
    },
    {
      "cell_type": "code",
      "metadata": {
        "id": "Zs7xs1QH1KMx"
      },
      "source": [
        "plot(H, np.sqrt(h_dim), 'H')"
      ],
      "execution_count": 56,
      "outputs": []
    },
    {
      "cell_type": "code",
      "metadata": {
        "id": "NQg8HNna1Ujq"
      },
      "source": [
        ""
      ],
      "execution_count": null,
      "outputs": []
    }
  ]
}