{
 "metadata": {
  "language_info": {
   "codemirror_mode": {
    "name": "ipython",
    "version": 3
   },
   "file_extension": ".py",
   "mimetype": "text/x-python",
   "name": "python",
   "nbconvert_exporter": "python",
   "pygments_lexer": "ipython3",
   "version": "3.7.4-final"
  },
  "orig_nbformat": 2,
  "kernelspec": {
   "name": "python3",
   "display_name": "Python 3",
   "language": "python"
  }
 },
 "nbformat": 4,
 "nbformat_minor": 2,
 "cells": [
  {
   "cell_type": "code",
   "execution_count": 1,
   "metadata": {},
   "outputs": [],
   "source": [
    "import numpy as np\n",
    "import matplotlib.pyplot as plt\n",
    "import tensorflow as tf\n",
    "from scipy.io import loadmat\n",
    "import os\n",
    "\n",
    "from sparse_coding import SparseCodingModel\n",
    "from sparse_coding_utils import get_natural_images, get_mnist_images, create_patchwork\n",
    "\n",
    "from helmholtz import helmholtz\n",
    "from tqdm import tqdm\n",
    "import matplotlib.cm as cm\n",
    "import matplotlib.animation as animation"
   ]
  },
  {
   "cell_type": "code",
   "execution_count": 2,
   "metadata": {},
   "outputs": [],
   "source": [
    "if \"IMAGES.mat\" not in os.listdir():\n",
    "    !wget https://github.com/hmallen99/vs265_files/raw/master/IMAGES.mat\n",
    "img_mat = loadmat(\"IMAGES.mat\")[\"IMAGES\"]\n",
    "X = get_natural_images(img_mat, 28)"
   ]
  },
  {
   "cell_type": "code",
   "execution_count": 3,
   "metadata": {},
   "outputs": [],
   "source": [
    "nat_model = SparseCodingModel(100, 400, 0.01)\n",
    "nat_model.load_Phi(\"nat_features17.npy\")"
   ]
  },
  {
   "cell_type": "code",
   "execution_count": 4,
   "metadata": {},
   "outputs": [],
   "source": [
    "num2_images = get_mnist_images(number=2)[:20]\n",
    "num2_activations = nat_model.predict(num2_images)"
   ]
  },
  {
   "cell_type": "code",
   "execution_count": 5,
   "metadata": {},
   "outputs": [
    {
     "output_type": "stream",
     "name": "stdout",
     "text": [
      "(400, 512)\n",
      "(512, 1)\n",
      "100%|██████████| 4/4 [00:27<00:00,  6.76s/it]\n"
     ]
    }
   ],
   "source": [
    "nat_helmholtz = helmholtz([400, 512], 'beta', .05)\n",
    "\n",
    "for i in tqdm(range(4)):\n",
    "    nat_helmholtz.train(num2_activations[:, i].reshape(1, -1))"
   ]
  },
  {
   "cell_type": "code",
   "execution_count": 6,
   "metadata": {},
   "outputs": [
    {
     "output_type": "execute_result",
     "data": {
      "text/plain": [
       "4000"
      ]
     },
     "metadata": {},
     "execution_count": 6
    }
   ],
   "source": [
    "len(nat_helmholtz.dreams)"
   ]
  },
  {
   "cell_type": "code",
   "execution_count": 7,
   "metadata": {},
   "outputs": [
    {
     "output_type": "stream",
     "name": "stderr",
     "text": [
      "100%|██████████| 40/40 [00:00<00:00, 890.93it/s]\n",
      "Animation Creation Started\n",
      "MovieWriter ffmpeg unavailable. Trying to use pillow instead.\n",
      "Animation Creation Finished\n"
     ]
    },
    {
     "output_type": "display_data",
     "data": {
      "text/plain": "<Figure size 432x288 with 1 Axes>",
      "image/svg+xml": "<?xml version=\"1.0\" encoding=\"utf-8\" standalone=\"no\"?>\r\n<!DOCTYPE svg PUBLIC \"-//W3C//DTD SVG 1.1//EN\"\r\n  \"http://www.w3.org/Graphics/SVG/1.1/DTD/svg11.dtd\">\r\n<!-- Created with matplotlib (https://matplotlib.org/) -->\r\n<svg height=\"252.018125pt\" version=\"1.1\" viewBox=\"0 0 255.065 252.018125\" width=\"255.065pt\" xmlns=\"http://www.w3.org/2000/svg\" xmlns:xlink=\"http://www.w3.org/1999/xlink\">\r\n <defs>\r\n  <style type=\"text/css\">\r\n*{stroke-linecap:butt;stroke-linejoin:round;}\r\n  </style>\r\n </defs>\r\n <g id=\"figure_1\">\r\n  <g id=\"patch_1\">\r\n   <path d=\"M 0 252.018125 \r\nL 255.065 252.018125 \r\nL 255.065 0 \r\nL 0 0 \r\nz\r\n\" style=\"fill:none;\"/>\r\n  </g>\r\n  <g id=\"axes_1\">\r\n   <g id=\"patch_2\">\r\n    <path d=\"M 26.925 228.14 \r\nL 244.365 228.14 \r\nL 244.365 10.7 \r\nL 26.925 10.7 \r\nz\r\n\" style=\"fill:#ffffff;\"/>\r\n   </g>\r\n   <g clip-path=\"url(#paa1ba2e325)\">\r\n    <image height=\"218\" id=\"imaged9ab6e88f1\" transform=\"scale(1 -1)translate(0 -218)\" width=\"218\" x=\"27\" xlink:href=\"data:image/png;base64,\r\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\" y=\"-10.018125\"/>\r\n   </g>\r\n   <g id=\"matplotlib.axis_1\">\r\n    <g id=\"xtick_1\">\r\n     <g id=\"line2d_1\">\r\n      <defs>\r\n       <path d=\"M 0 0 \r\nL 0 3.5 \r\n\" id=\"mf26cf53e9b\" style=\"stroke:#000000;stroke-width:0.8;\"/>\r\n      </defs>\r\n      <g>\r\n       <use style=\"stroke:#000000;stroke-width:0.8;\" x=\"30.807857\" xlink:href=\"#mf26cf53e9b\" y=\"228.14\"/>\r\n      </g>\r\n     </g>\r\n     <g id=\"text_1\">\r\n      <!-- 0 -->\r\n      <defs>\r\n       <path d=\"M 31.78125 66.40625 \r\nQ 24.171875 66.40625 20.328125 58.90625 \r\nQ 16.5 51.421875 16.5 36.375 \r\nQ 16.5 21.390625 20.328125 13.890625 \r\nQ 24.171875 6.390625 31.78125 6.390625 \r\nQ 39.453125 6.390625 43.28125 13.890625 \r\nQ 47.125 21.390625 47.125 36.375 \r\nQ 47.125 51.421875 43.28125 58.90625 \r\nQ 39.453125 66.40625 31.78125 66.40625 \r\nz\r\nM 31.78125 74.21875 \r\nQ 44.046875 74.21875 50.515625 64.515625 \r\nQ 56.984375 54.828125 56.984375 36.375 \r\nQ 56.984375 17.96875 50.515625 8.265625 \r\nQ 44.046875 -1.421875 31.78125 -1.421875 \r\nQ 19.53125 -1.421875 13.0625 8.265625 \r\nQ 6.59375 17.96875 6.59375 36.375 \r\nQ 6.59375 54.828125 13.0625 64.515625 \r\nQ 19.53125 74.21875 31.78125 74.21875 \r\nz\r\n\" id=\"DejaVuSans-48\"/>\r\n      </defs>\r\n      <g transform=\"translate(27.626607 242.738437)scale(0.1 -0.1)\">\r\n       <use xlink:href=\"#DejaVuSans-48\"/>\r\n      </g>\r\n     </g>\r\n    </g>\r\n    <g id=\"xtick_2\">\r\n     <g id=\"line2d_2\">\r\n      <g>\r\n       <use style=\"stroke:#000000;stroke-width:0.8;\" x=\"69.636429\" xlink:href=\"#mf26cf53e9b\" y=\"228.14\"/>\r\n      </g>\r\n     </g>\r\n     <g id=\"text_2\">\r\n      <!-- 5 -->\r\n      <defs>\r\n       <path d=\"M 10.796875 72.90625 \r\nL 49.515625 72.90625 \r\nL 49.515625 64.59375 \r\nL 19.828125 64.59375 \r\nL 19.828125 46.734375 \r\nQ 21.96875 47.46875 24.109375 47.828125 \r\nQ 26.265625 48.1875 28.421875 48.1875 \r\nQ 40.625 48.1875 47.75 41.5 \r\nQ 54.890625 34.8125 54.890625 23.390625 \r\nQ 54.890625 11.625 47.5625 5.09375 \r\nQ 40.234375 -1.421875 26.90625 -1.421875 \r\nQ 22.3125 -1.421875 17.546875 -0.640625 \r\nQ 12.796875 0.140625 7.71875 1.703125 \r\nL 7.71875 11.625 \r\nQ 12.109375 9.234375 16.796875 8.0625 \r\nQ 21.484375 6.890625 26.703125 6.890625 \r\nQ 35.15625 6.890625 40.078125 11.328125 \r\nQ 45.015625 15.765625 45.015625 23.390625 \r\nQ 45.015625 31 40.078125 35.4375 \r\nQ 35.15625 39.890625 26.703125 39.890625 \r\nQ 22.75 39.890625 18.8125 39.015625 \r\nQ 14.890625 38.140625 10.796875 36.28125 \r\nz\r\n\" id=\"DejaVuSans-53\"/>\r\n      </defs>\r\n      <g transform=\"translate(66.455179 242.738437)scale(0.1 -0.1)\">\r\n       <use xlink:href=\"#DejaVuSans-53\"/>\r\n      </g>\r\n     </g>\r\n    </g>\r\n    <g id=\"xtick_3\">\r\n     <g id=\"line2d_3\">\r\n      <g>\r\n       <use style=\"stroke:#000000;stroke-width:0.8;\" x=\"108.465\" xlink:href=\"#mf26cf53e9b\" y=\"228.14\"/>\r\n      </g>\r\n     </g>\r\n     <g id=\"text_3\">\r\n      <!-- 10 -->\r\n      <defs>\r\n       <path d=\"M 12.40625 8.296875 \r\nL 28.515625 8.296875 \r\nL 28.515625 63.921875 \r\nL 10.984375 60.40625 \r\nL 10.984375 69.390625 \r\nL 28.421875 72.90625 \r\nL 38.28125 72.90625 \r\nL 38.28125 8.296875 \r\nL 54.390625 8.296875 \r\nL 54.390625 0 \r\nL 12.40625 0 \r\nz\r\n\" id=\"DejaVuSans-49\"/>\r\n      </defs>\r\n      <g transform=\"translate(102.1025 242.738437)scale(0.1 -0.1)\">\r\n       <use xlink:href=\"#DejaVuSans-49\"/>\r\n       <use x=\"63.623047\" xlink:href=\"#DejaVuSans-48\"/>\r\n      </g>\r\n     </g>\r\n    </g>\r\n    <g id=\"xtick_4\">\r\n     <g id=\"line2d_4\">\r\n      <g>\r\n       <use style=\"stroke:#000000;stroke-width:0.8;\" x=\"147.293571\" xlink:href=\"#mf26cf53e9b\" y=\"228.14\"/>\r\n      </g>\r\n     </g>\r\n     <g id=\"text_4\">\r\n      <!-- 15 -->\r\n      <g transform=\"translate(140.931071 242.738437)scale(0.1 -0.1)\">\r\n       <use xlink:href=\"#DejaVuSans-49\"/>\r\n       <use x=\"63.623047\" xlink:href=\"#DejaVuSans-53\"/>\r\n      </g>\r\n     </g>\r\n    </g>\r\n    <g id=\"xtick_5\">\r\n     <g id=\"line2d_5\">\r\n      <g>\r\n       <use style=\"stroke:#000000;stroke-width:0.8;\" x=\"186.122143\" xlink:href=\"#mf26cf53e9b\" y=\"228.14\"/>\r\n      </g>\r\n     </g>\r\n     <g id=\"text_5\">\r\n      <!-- 20 -->\r\n      <defs>\r\n       <path d=\"M 19.1875 8.296875 \r\nL 53.609375 8.296875 \r\nL 53.609375 0 \r\nL 7.328125 0 \r\nL 7.328125 8.296875 \r\nQ 12.9375 14.109375 22.625 23.890625 \r\nQ 32.328125 33.6875 34.8125 36.53125 \r\nQ 39.546875 41.84375 41.421875 45.53125 \r\nQ 43.3125 49.21875 43.3125 52.78125 \r\nQ 43.3125 58.59375 39.234375 62.25 \r\nQ 35.15625 65.921875 28.609375 65.921875 \r\nQ 23.96875 65.921875 18.8125 64.3125 \r\nQ 13.671875 62.703125 7.8125 59.421875 \r\nL 7.8125 69.390625 \r\nQ 13.765625 71.78125 18.9375 73 \r\nQ 24.125 74.21875 28.421875 74.21875 \r\nQ 39.75 74.21875 46.484375 68.546875 \r\nQ 53.21875 62.890625 53.21875 53.421875 \r\nQ 53.21875 48.921875 51.53125 44.890625 \r\nQ 49.859375 40.875 45.40625 35.40625 \r\nQ 44.1875 33.984375 37.640625 27.21875 \r\nQ 31.109375 20.453125 19.1875 8.296875 \r\nz\r\n\" id=\"DejaVuSans-50\"/>\r\n      </defs>\r\n      <g transform=\"translate(179.759643 242.738437)scale(0.1 -0.1)\">\r\n       <use xlink:href=\"#DejaVuSans-50\"/>\r\n       <use x=\"63.623047\" xlink:href=\"#DejaVuSans-48\"/>\r\n      </g>\r\n     </g>\r\n    </g>\r\n    <g id=\"xtick_6\">\r\n     <g id=\"line2d_6\">\r\n      <g>\r\n       <use style=\"stroke:#000000;stroke-width:0.8;\" x=\"224.950714\" xlink:href=\"#mf26cf53e9b\" y=\"228.14\"/>\r\n      </g>\r\n     </g>\r\n     <g id=\"text_6\">\r\n      <!-- 25 -->\r\n      <g transform=\"translate(218.588214 242.738437)scale(0.1 -0.1)\">\r\n       <use xlink:href=\"#DejaVuSans-50\"/>\r\n       <use x=\"63.623047\" xlink:href=\"#DejaVuSans-53\"/>\r\n      </g>\r\n     </g>\r\n    </g>\r\n   </g>\r\n   <g id=\"matplotlib.axis_2\">\r\n    <g id=\"ytick_1\">\r\n     <g id=\"line2d_7\">\r\n      <defs>\r\n       <path d=\"M 0 0 \r\nL -3.5 0 \r\n\" id=\"ma9aa452ba6\" style=\"stroke:#000000;stroke-width:0.8;\"/>\r\n      </defs>\r\n      <g>\r\n       <use style=\"stroke:#000000;stroke-width:0.8;\" x=\"26.925\" xlink:href=\"#ma9aa452ba6\" y=\"14.582857\"/>\r\n      </g>\r\n     </g>\r\n     <g id=\"text_7\">\r\n      <!-- 0 -->\r\n      <g transform=\"translate(13.5625 18.382076)scale(0.1 -0.1)\">\r\n       <use xlink:href=\"#DejaVuSans-48\"/>\r\n      </g>\r\n     </g>\r\n    </g>\r\n    <g id=\"ytick_2\">\r\n     <g id=\"line2d_8\">\r\n      <g>\r\n       <use style=\"stroke:#000000;stroke-width:0.8;\" x=\"26.925\" xlink:href=\"#ma9aa452ba6\" y=\"53.411429\"/>\r\n      </g>\r\n     </g>\r\n     <g id=\"text_8\">\r\n      <!-- 5 -->\r\n      <g transform=\"translate(13.5625 57.210647)scale(0.1 -0.1)\">\r\n       <use xlink:href=\"#DejaVuSans-53\"/>\r\n      </g>\r\n     </g>\r\n    </g>\r\n    <g id=\"ytick_3\">\r\n     <g id=\"line2d_9\">\r\n      <g>\r\n       <use style=\"stroke:#000000;stroke-width:0.8;\" x=\"26.925\" xlink:href=\"#ma9aa452ba6\" y=\"92.24\"/>\r\n      </g>\r\n     </g>\r\n     <g id=\"text_9\">\r\n      <!-- 10 -->\r\n      <g transform=\"translate(7.2 96.039219)scale(0.1 -0.1)\">\r\n       <use xlink:href=\"#DejaVuSans-49\"/>\r\n       <use x=\"63.623047\" xlink:href=\"#DejaVuSans-48\"/>\r\n      </g>\r\n     </g>\r\n    </g>\r\n    <g id=\"ytick_4\">\r\n     <g id=\"line2d_10\">\r\n      <g>\r\n       <use style=\"stroke:#000000;stroke-width:0.8;\" x=\"26.925\" xlink:href=\"#ma9aa452ba6\" y=\"131.068571\"/>\r\n      </g>\r\n     </g>\r\n     <g id=\"text_10\">\r\n      <!-- 15 -->\r\n      <g transform=\"translate(7.2 134.86779)scale(0.1 -0.1)\">\r\n       <use xlink:href=\"#DejaVuSans-49\"/>\r\n       <use x=\"63.623047\" xlink:href=\"#DejaVuSans-53\"/>\r\n      </g>\r\n     </g>\r\n    </g>\r\n    <g id=\"ytick_5\">\r\n     <g id=\"line2d_11\">\r\n      <g>\r\n       <use style=\"stroke:#000000;stroke-width:0.8;\" x=\"26.925\" xlink:href=\"#ma9aa452ba6\" y=\"169.897143\"/>\r\n      </g>\r\n     </g>\r\n     <g id=\"text_11\">\r\n      <!-- 20 -->\r\n      <g transform=\"translate(7.2 173.696362)scale(0.1 -0.1)\">\r\n       <use xlink:href=\"#DejaVuSans-50\"/>\r\n       <use x=\"63.623047\" xlink:href=\"#DejaVuSans-48\"/>\r\n      </g>\r\n     </g>\r\n    </g>\r\n    <g id=\"ytick_6\">\r\n     <g id=\"line2d_12\">\r\n      <g>\r\n       <use style=\"stroke:#000000;stroke-width:0.8;\" x=\"26.925\" xlink:href=\"#ma9aa452ba6\" y=\"208.725714\"/>\r\n      </g>\r\n     </g>\r\n     <g id=\"text_12\">\r\n      <!-- 25 -->\r\n      <g transform=\"translate(7.2 212.524933)scale(0.1 -0.1)\">\r\n       <use xlink:href=\"#DejaVuSans-50\"/>\r\n       <use x=\"63.623047\" xlink:href=\"#DejaVuSans-53\"/>\r\n      </g>\r\n     </g>\r\n    </g>\r\n   </g>\r\n   <g id=\"patch_3\">\r\n    <path d=\"M 26.925 228.14 \r\nL 26.925 10.7 \r\n\" style=\"fill:none;stroke:#000000;stroke-linecap:square;stroke-linejoin:miter;stroke-width:0.8;\"/>\r\n   </g>\r\n   <g id=\"patch_4\">\r\n    <path d=\"M 244.365 228.14 \r\nL 244.365 10.7 \r\n\" style=\"fill:none;stroke:#000000;stroke-linecap:square;stroke-linejoin:miter;stroke-width:0.8;\"/>\r\n   </g>\r\n   <g id=\"patch_5\">\r\n    <path d=\"M 26.925 228.14 \r\nL 244.365 228.14 \r\n\" style=\"fill:none;stroke:#000000;stroke-linecap:square;stroke-linejoin:miter;stroke-width:0.8;\"/>\r\n   </g>\r\n   <g id=\"patch_6\">\r\n    <path d=\"M 26.925 10.7 \r\nL 244.365 10.7 \r\n\" style=\"fill:none;stroke:#000000;stroke-linecap:square;stroke-linejoin:miter;stroke-width:0.8;\"/>\r\n   </g>\r\n  </g>\r\n </g>\r\n <defs>\r\n  <clipPath id=\"paa1ba2e325\">\r\n   <rect height=\"217.44\" width=\"217.44\" x=\"26.925\" y=\"10.7\"/>\r\n  </clipPath>\r\n </defs>\r\n</svg>\r\n",
      "image/png": "[encoded data removed]"
     },
     "metadata": {
      "needs_background": "light"
     }
    }
   ],
   "source": [
    "frames = [] \n",
    "fig = plt.figure()\n",
    "for dream in tqdm(nat_helmholtz.dreams[::100]):\n",
    "    dream = nat_model.generate(dream).reshape(28, 28)\n",
    "    frames.append([plt.imshow(dream, animated=True)])\n",
    "\n",
    "print('Animation Creation Started')\n",
    "ani = animation.ArtistAnimation(fig, frames, interval=10, blit=True)\n",
    "ani.save('faces_dreaming_2.gif')\n",
    "print('Animation Creation Finished')\n",
    "\n",
    "plt.show()"
   ]
  },
  {
   "cell_type": "code",
   "execution_count": null,
   "metadata": {},
   "outputs": [],
   "source": []
  }
 ]
}